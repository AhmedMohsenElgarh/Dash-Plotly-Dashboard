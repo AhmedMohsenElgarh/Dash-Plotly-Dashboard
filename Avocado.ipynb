{
 "cells": [
  {
   "cell_type": "code",
   "execution_count": 1,
   "metadata": {},
   "outputs": [],
   "source": [
    "import dash\n",
    "from dash import html \n",
    "from dash import dcc\n",
    "import plotly.express as px\n",
    "import plotly.graph_objs as go\n",
    "\n",
    "import pandas as pd\n",
    "import numpy as np\n",
    "from dash.dependencies import Input, Output"
   ]
  },
  {
   "cell_type": "code",
   "execution_count": 2,
   "metadata": {},
   "outputs": [],
   "source": [
    "external_stylesheets = [\n",
    "    {\n",
    "        \"href\": \"https://fonts.googleapis.com/css2?\"\n",
    "                \"family=Lato:wght@400;700&display=swap\",\n",
    "        \"rel\": \"stylesheet\",\n",
    "    },\n",
    "]\n",
    "app = dash.Dash(__name__, external_stylesheets=external_stylesheets)\n",
    "app.title = \"Avocado Analytics\""
   ]
  },
  {
   "cell_type": "code",
   "execution_count": 3,
   "metadata": {},
   "outputs": [],
   "source": [
    "data = pd.read_csv(\"C:\\\\Users\\\\Ahmed Mohsen\\\\Desktop\\\\Project\\\\data\\\\avocado.csv\" , index_col=0)"
   ]
  },
  {
   "cell_type": "code",
   "execution_count": 4,
   "metadata": {},
   "outputs": [
    {
     "name": "stdout",
     "output_type": "stream",
     "text": [
      "<class 'pandas.core.frame.DataFrame'>\n",
      "Int64Index: 18249 entries, 0 to 11\n",
      "Data columns (total 6 columns):\n",
      " #   Column        Non-Null Count  Dtype  \n",
      "---  ------        --------------  -----  \n",
      " 0   Date          18249 non-null  object \n",
      " 1   AveragePrice  18249 non-null  float64\n",
      " 2   Total Volume  18249 non-null  float64\n",
      " 3   type          18249 non-null  object \n",
      " 4   year          18249 non-null  int64  \n",
      " 5   region        18249 non-null  object \n",
      "dtypes: float64(2), int64(1), object(3)\n",
      "memory usage: 998.0+ KB\n"
     ]
    }
   ],
   "source": [
    "data.info()"
   ]
  },
  {
   "cell_type": "code",
   "execution_count": 5,
   "metadata": {},
   "outputs": [
    {
     "data": {
      "text/html": [
       "<div>\n",
       "<style scoped>\n",
       "    .dataframe tbody tr th:only-of-type {\n",
       "        vertical-align: middle;\n",
       "    }\n",
       "\n",
       "    .dataframe tbody tr th {\n",
       "        vertical-align: top;\n",
       "    }\n",
       "\n",
       "    .dataframe thead th {\n",
       "        text-align: right;\n",
       "    }\n",
       "</style>\n",
       "<table border=\"1\" class=\"dataframe\">\n",
       "  <thead>\n",
       "    <tr style=\"text-align: right;\">\n",
       "      <th></th>\n",
       "      <th>Date</th>\n",
       "      <th>AveragePrice</th>\n",
       "      <th>Total Volume</th>\n",
       "      <th>type</th>\n",
       "      <th>year</th>\n",
       "      <th>region</th>\n",
       "    </tr>\n",
       "  </thead>\n",
       "  <tbody>\n",
       "    <tr>\n",
       "      <th>0</th>\n",
       "      <td>2015-12-27</td>\n",
       "      <td>1.33</td>\n",
       "      <td>64236.62</td>\n",
       "      <td>conventional</td>\n",
       "      <td>2015</td>\n",
       "      <td>Albany</td>\n",
       "    </tr>\n",
       "    <tr>\n",
       "      <th>1</th>\n",
       "      <td>2015-12-20</td>\n",
       "      <td>1.35</td>\n",
       "      <td>54876.98</td>\n",
       "      <td>conventional</td>\n",
       "      <td>2015</td>\n",
       "      <td>Albany</td>\n",
       "    </tr>\n",
       "    <tr>\n",
       "      <th>2</th>\n",
       "      <td>2015-12-13</td>\n",
       "      <td>0.93</td>\n",
       "      <td>118220.22</td>\n",
       "      <td>conventional</td>\n",
       "      <td>2015</td>\n",
       "      <td>Albany</td>\n",
       "    </tr>\n",
       "    <tr>\n",
       "      <th>3</th>\n",
       "      <td>2015-12-6</td>\n",
       "      <td>1.08</td>\n",
       "      <td>78992.15</td>\n",
       "      <td>conventional</td>\n",
       "      <td>2015</td>\n",
       "      <td>Albany</td>\n",
       "    </tr>\n",
       "    <tr>\n",
       "      <th>4</th>\n",
       "      <td>2015-11-29</td>\n",
       "      <td>1.28</td>\n",
       "      <td>51039.60</td>\n",
       "      <td>conventional</td>\n",
       "      <td>2015</td>\n",
       "      <td>Albany</td>\n",
       "    </tr>\n",
       "  </tbody>\n",
       "</table>\n",
       "</div>"
      ],
      "text/plain": [
       "         Date  AveragePrice  Total Volume          type  year  region\n",
       "0  2015-12-27          1.33      64236.62  conventional  2015  Albany\n",
       "1  2015-12-20          1.35      54876.98  conventional  2015  Albany\n",
       "2  2015-12-13          0.93     118220.22  conventional  2015  Albany\n",
       "3   2015-12-6          1.08      78992.15  conventional  2015  Albany\n",
       "4  2015-11-29          1.28      51039.60  conventional  2015  Albany"
      ]
     },
     "execution_count": 5,
     "metadata": {},
     "output_type": "execute_result"
    }
   ],
   "source": [
    "data.head(5)"
   ]
  },
  {
   "cell_type": "code",
   "execution_count": 6,
   "metadata": {},
   "outputs": [],
   "source": [
    "data[\"Date\"] = pd.to_datetime(data[\"Date\"], format=\"%Y-%m-%d\")\n",
    "data.sort_values(\"Date\", inplace=True)"
   ]
  },
  {
   "cell_type": "code",
   "execution_count": 7,
   "metadata": {},
   "outputs": [],
   "source": [
    "data['total_price'] = data[\"Total Volume\"] * data[\"AveragePrice\"]"
   ]
  },
  {
   "cell_type": "code",
   "execution_count": 8,
   "metadata": {},
   "outputs": [],
   "source": [
    "region = data.groupby(['region'])['Total Volume'].sum().sort_values(ascending=False).reset_index()"
   ]
  },
  {
   "cell_type": "code",
   "execution_count": 9,
   "metadata": {},
   "outputs": [
    {
     "data": {
      "text/plain": [
       "Date            0\n",
       "AveragePrice    0\n",
       "Total Volume    0\n",
       "type            0\n",
       "year            0\n",
       "region          0\n",
       "total_price     0\n",
       "dtype: int64"
      ]
     },
     "execution_count": 9,
     "metadata": {},
     "output_type": "execute_result"
    }
   ],
   "source": [
    "data.isna().sum()"
   ]
  },
  {
   "cell_type": "code",
   "execution_count": 10,
   "metadata": {},
   "outputs": [],
   "source": [
    "app.layout = html.Div(\n",
    "    children=[\n",
    "        html.Div(\n",
    "            children=[\n",
    "                html.P(children=\"🥑\", className=\"header-emoji\"),\n",
    "                html.H1(\n",
    "                    children=\"Avocado Analytics\", className=\"header-title\"\n",
    "                ),\n",
    "                html.P(\n",
    "                    children=\"Analyze the behavior of avocado prices\"\n",
    "                    \" and the number of avocados sold in the US\"\n",
    "                    \" between 2015 and 2018\",\n",
    "                    className=\"header-description\",\n",
    "                ),\n",
    "            ],\n",
    "            className=\"header\",\n",
    "        ),\n",
    "        \n",
    "        html.Div(\n",
    "            children=[\n",
    "                html.Div(\n",
    "                    children=[\n",
    "                        html.Div(children=\"Region\", className=\"menu-title\"),\n",
    "                        dcc.Dropdown(\n",
    "                            id=\"region-filter\",\n",
    "                            options=[\n",
    "                                {\"label\": region, \"value\": region}\n",
    "                                for region in np.sort(data.region.unique())\n",
    "                            ],\n",
    "                            value=\"Albany\",\n",
    "                            clearable=False,\n",
    "                            className=\"dropdown\",\n",
    "                        ),\n",
    "                    ]\n",
    "                ),\n",
    "                \n",
    "                html.Div(\n",
    "                    children=[\n",
    "                        html.Div(children=\"Type\", className=\"menu-title\"),\n",
    "                        dcc.Dropdown(\n",
    "                            id=\"type-filter\",\n",
    "                            options=[\n",
    "                                {\"label\": avocado_type, \"value\": avocado_type}\n",
    "                                for avocado_type in data.type.unique()\n",
    "                            ],\n",
    "                            value=\"organic\",\n",
    "                            clearable=False,\n",
    "                            searchable=False,\n",
    "                            className=\"dropdown\",\n",
    "                        ),\n",
    "                    ],\n",
    "                ),\n",
    "                \n",
    "                html.Div(\n",
    "                    children=[\n",
    "                        html.Div(\n",
    "                            children=\"Date Range\",\n",
    "                            className=\"menu-title\"\n",
    "                            ),\n",
    "                        dcc.DatePickerRange(\n",
    "                            id=\"date-range\",\n",
    "                            min_date_allowed=data.Date.min().date(),\n",
    "                            max_date_allowed=data.Date.max().date(),\n",
    "                            start_date=data.Date.min().date(),\n",
    "                            end_date=data.Date.max().date(),\n",
    "                        ),\n",
    "                    ]\n",
    "                ),\n",
    "            ],\n",
    "            className=\"menu\",\n",
    "        ),\n",
    "        \n",
    "        html.Div(\n",
    "            children=[\n",
    "                html.Div(\n",
    "                    children=dcc.Graph(\n",
    "                        id=\"price-chart\", config={\"displayModeBar\": False},\n",
    "                    ),\n",
    "                    className=\"card\",\n",
    "                ),\n",
    "                html.Div(\n",
    "                    children=dcc.Graph(\n",
    "                        id=\"volume-chart\", config={\"displayModeBar\": False},\n",
    "                    ),\n",
    "                    className=\"card\",\n",
    "                ),\n",
    "            ],\n",
    "            className=\"wrapper\",\n",
    "        ),\n",
    "        \n",
    "    ]\n",
    ")"
   ]
  },
  {
   "cell_type": "code",
   "execution_count": 11,
   "metadata": {},
   "outputs": [],
   "source": [
    "@app.callback(\n",
    "    [Output(\"price-chart\", \"figure\"), Output(\"volume-chart\", \"figure\")],\n",
    "    [\n",
    "        Input(\"region-filter\", \"value\"),\n",
    "        Input(\"type-filter\", \"value\"),\n",
    "        Input(\"date-range\", \"start_date\"),\n",
    "        Input(\"date-range\", \"end_date\"),\n",
    "    ],\n",
    ")\n",
    "def update_charts(region, avocado_type, start_date, end_date):\n",
    "    mask = (\n",
    "        (data.region == region)\n",
    "        & (data.type == avocado_type)\n",
    "        & (data.Date >= start_date)\n",
    "        & (data.Date <= end_date)\n",
    "    )\n",
    "    filtered_data = data.loc[mask, :]\n",
    "    price_chart_figure = {\n",
    "        \"data\": [\n",
    "            {\n",
    "                \"x\": filtered_data[\"Date\"],\n",
    "                \"y\": filtered_data[\"AveragePrice\"],\n",
    "                \"type\": \"lines\",\n",
    "                \"hovertemplate\": \"$%{y:.2f}<extra></extra>\",\n",
    "            },\n",
    "        ],\n",
    "        \"layout\": {\n",
    "            \"title\": {\n",
    "                \"text\": \"Average Price of Avocados\",\n",
    "                \"x\": 0.05,\n",
    "               \n",
    "                \"xanchor\": \"left\",\n",
    "            },\n",
    "            \"xaxis\": {\"fixedrange\": True},\n",
    "            \"yaxis\": {\"tickprefix\": \"$\", \"fixedrange\": True},\n",
    "            \"colorway\": [\"#17B897\"],\n",
    "        },\n",
    "    }\n",
    "\n",
    "    volume_chart_figure = {\n",
    "        \"data\": [\n",
    "            {\n",
    "                \"x\": filtered_data[\"Date\"],\n",
    "                \"y\": filtered_data[\"total_price\"] ,\n",
    "                \"type\": \"bar\",\n",
    "            },\n",
    "        ],\n",
    "        \"layout\": {\n",
    "            \"title\": {\n",
    "                \"text\": \"Avocados Sold\",\n",
    "                \"x\": 0.05,\n",
    "                \"xanchor\": \"left\"\n",
    "            },\n",
    "            \"xaxis\": {\"fixedrange\": True},\n",
    "            \"yaxis\": {\"fixedrange\": False},\n",
    "            \"colorway\": [\"#E12D39\"],\n",
    "        },\n",
    "    }\n",
    "    return price_chart_figure, volume_chart_figure"
   ]
  },
  {
   "cell_type": "code",
   "execution_count": 12,
   "metadata": {},
   "outputs": [
    {
     "name": "stdout",
     "output_type": "stream",
     "text": [
      "Dash is running on http://127.0.0.1:9090/\n",
      "\n",
      " * Serving Flask app \"__main__\" (lazy loading)\n",
      " * Environment: production\n",
      "   WARNING: This is a development server. Do not use it in a production deployment.\n",
      "   Use a production WSGI server instead.\n",
      " * Debug mode: off\n"
     ]
    },
    {
     "name": "stderr",
     "output_type": "stream",
     "text": [
      " * Running on http://127.0.0.1:9090/ (Press CTRL+C to quit)\n",
      "127.0.0.1 - - [29/Oct/2021 13:58:51] \"\u001b[37mGET / HTTP/1.1\u001b[0m\" 200 -\n",
      "127.0.0.1 - - [29/Oct/2021 13:58:51] \"\u001b[37mGET /_dash-component-suites/dash/deps/polyfill@7.v2_0_0m1635353916.12.1.min.js HTTP/1.1\u001b[0m\" 200 -\n",
      "127.0.0.1 - - [29/Oct/2021 13:58:51] \"\u001b[37mGET /_dash-component-suites/dash/deps/react@16.v2_0_0m1635353916.14.0.min.js HTTP/1.1\u001b[0m\" 200 -\n",
      "127.0.0.1 - - [29/Oct/2021 13:58:51] \"\u001b[37mGET /_dash-component-suites/dash/deps/react-dom@16.v2_0_0m1635353916.14.0.min.js HTTP/1.1\u001b[0m\" 200 -\n",
      "127.0.0.1 - - [29/Oct/2021 13:58:51] \"\u001b[37mGET /_dash-component-suites/dash/deps/prop-types@15.v2_0_0m1635353916.7.2.min.js HTTP/1.1\u001b[0m\" 200 -\n",
      "127.0.0.1 - - [29/Oct/2021 13:58:51] \"\u001b[37mGET /assets/style.css?m=1635494253.2653067 HTTP/1.1\u001b[0m\" 200 -\n",
      "127.0.0.1 - - [29/Oct/2021 13:58:51] \"\u001b[37mGET /_dash-component-suites/dash/dash-renderer/build/dash_renderer.v2_0_0m1635353916.min.js HTTP/1.1\u001b[0m\" 200 -\n",
      "127.0.0.1 - - [29/Oct/2021 13:58:51] \"\u001b[37mGET /_dash-component-suites/dash/dcc/dash_core_components.v2_0_0m1635353916.js HTTP/1.1\u001b[0m\" 200 -\n",
      "127.0.0.1 - - [29/Oct/2021 13:58:51] \"\u001b[37mGET /_dash-component-suites/dash/dcc/dash_core_components-shared.v2_0_0m1635353916.js HTTP/1.1\u001b[0m\" 200 -\n",
      "127.0.0.1 - - [29/Oct/2021 13:58:51] \"\u001b[37mGET /_dash-component-suites/dash/html/dash_html_components.v2_0_0m1635353916.min.js HTTP/1.1\u001b[0m\" 200 -\n",
      "127.0.0.1 - - [29/Oct/2021 13:58:51] \"\u001b[37mGET /_dash-component-suites/dash/dash_table/bundle.v5_0_0m1635353916.js HTTP/1.1\u001b[0m\" 200 -\n",
      "127.0.0.1 - - [29/Oct/2021 13:58:51] \"\u001b[37mGET /_dash-dependencies HTTP/1.1\u001b[0m\" 200 -\n",
      "127.0.0.1 - - [29/Oct/2021 13:58:51] \"\u001b[37mGET /_dash-layout HTTP/1.1\u001b[0m\" 200 -\n",
      "127.0.0.1 - - [29/Oct/2021 13:58:52] \"\u001b[37mGET /_dash-component-suites/dash/dcc/async-dropdown.js HTTP/1.1\u001b[0m\" 200 -\n",
      "127.0.0.1 - - [29/Oct/2021 13:58:52] \"\u001b[37mGET /_dash-component-suites/dash/dcc/async-datepicker.js HTTP/1.1\u001b[0m\" 200 -\n",
      "127.0.0.1 - - [29/Oct/2021 13:58:52] \"\u001b[37mGET /_dash-component-suites/dash/dcc/async-graph.js HTTP/1.1\u001b[0m\" 200 -\n",
      "127.0.0.1 - - [29/Oct/2021 13:58:52] \"\u001b[37mGET /_dash-component-suites/dash/dcc/async-plotlyjs.js HTTP/1.1\u001b[0m\" 200 -\n",
      "127.0.0.1 - - [29/Oct/2021 13:58:52] \"\u001b[37mPOST /_dash-update-component HTTP/1.1\u001b[0m\" 200 -\n",
      "127.0.0.1 - - [29/Oct/2021 13:58:52] \"\u001b[37mGET /_favicon.ico?v=2.0.0 HTTP/1.1\u001b[0m\" 200 -\n",
      "127.0.0.1 - - [29/Oct/2021 14:04:38] \"\u001b[37mPOST /_dash-update-component HTTP/1.1\u001b[0m\" 200 -\n",
      "127.0.0.1 - - [29/Oct/2021 14:04:55] \"\u001b[37mPOST /_dash-update-component HTTP/1.1\u001b[0m\" 200 -\n",
      "127.0.0.1 - - [29/Oct/2021 14:05:16] \"\u001b[37mPOST /_dash-update-component HTTP/1.1\u001b[0m\" 200 -\n",
      "127.0.0.1 - - [29/Oct/2021 14:05:20] \"\u001b[37mPOST /_dash-update-component HTTP/1.1\u001b[0m\" 200 -\n",
      "127.0.0.1 - - [29/Oct/2021 14:05:24] \"\u001b[37mPOST /_dash-update-component HTTP/1.1\u001b[0m\" 200 -\n",
      "127.0.0.1 - - [29/Oct/2021 14:06:10] \"\u001b[37mPOST /_dash-update-component HTTP/1.1\u001b[0m\" 200 -\n"
     ]
    }
   ],
   "source": [
    "app.run_server(port = 9090)"
   ]
  },
  {
   "cell_type": "code",
   "execution_count": null,
   "metadata": {},
   "outputs": [],
   "source": []
  }
 ],
 "metadata": {
  "kernelspec": {
   "display_name": "Python 3",
   "language": "python",
   "name": "python3"
  },
  "language_info": {
   "codemirror_mode": {
    "name": "ipython",
    "version": 3
   },
   "file_extension": ".py",
   "mimetype": "text/x-python",
   "name": "python",
   "nbconvert_exporter": "python",
   "pygments_lexer": "ipython3",
   "version": "3.8.5"
  }
 },
 "nbformat": 4,
 "nbformat_minor": 4
}
